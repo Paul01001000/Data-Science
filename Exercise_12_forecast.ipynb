{
 "cells": [
  {
   "cell_type": "code",
   "execution_count": 3,
   "metadata": {},
   "outputs": [],
   "source": [
    "import pandas as pd\n",
    "import numpy as np\n",
    "from sklearn.model_selection import train_test_split\n"
   ]
  },
  {
   "cell_type": "code",
   "execution_count": 4,
   "metadata": {},
   "outputs": [
    {
     "data": {
      "text/html": [
       "<div>\n",
       "<style scoped>\n",
       "    .dataframe tbody tr th:only-of-type {\n",
       "        vertical-align: middle;\n",
       "    }\n",
       "\n",
       "    .dataframe tbody tr th {\n",
       "        vertical-align: top;\n",
       "    }\n",
       "\n",
       "    .dataframe thead th {\n",
       "        text-align: right;\n",
       "    }\n",
       "</style>\n",
       "<table border=\"1\" class=\"dataframe\">\n",
       "  <thead>\n",
       "    <tr style=\"text-align: right;\">\n",
       "      <th></th>\n",
       "      <th>timestamp</th>\n",
       "      <th>sensor_1</th>\n",
       "      <th>sensor_2</th>\n",
       "      <th>sensor_3</th>\n",
       "    </tr>\n",
       "  </thead>\n",
       "  <tbody>\n",
       "    <tr>\n",
       "      <th>count</th>\n",
       "      <td>2.190000e+02</td>\n",
       "      <td>219.000000</td>\n",
       "      <td>219.0</td>\n",
       "      <td>219.0</td>\n",
       "    </tr>\n",
       "    <tr>\n",
       "      <th>mean</th>\n",
       "      <td>1.503921e+12</td>\n",
       "      <td>0.543441</td>\n",
       "      <td>0.0</td>\n",
       "      <td>0.0</td>\n",
       "    </tr>\n",
       "    <tr>\n",
       "      <th>std</th>\n",
       "      <td>3.960217e+03</td>\n",
       "      <td>0.122817</td>\n",
       "      <td>0.0</td>\n",
       "      <td>0.0</td>\n",
       "    </tr>\n",
       "    <tr>\n",
       "      <th>min</th>\n",
       "      <td>1.503921e+12</td>\n",
       "      <td>0.304008</td>\n",
       "      <td>0.0</td>\n",
       "      <td>0.0</td>\n",
       "    </tr>\n",
       "    <tr>\n",
       "      <th>25%</th>\n",
       "      <td>1.503921e+12</td>\n",
       "      <td>0.472141</td>\n",
       "      <td>0.0</td>\n",
       "      <td>0.0</td>\n",
       "    </tr>\n",
       "    <tr>\n",
       "      <th>50%</th>\n",
       "      <td>1.503921e+12</td>\n",
       "      <td>0.514174</td>\n",
       "      <td>0.0</td>\n",
       "      <td>0.0</td>\n",
       "    </tr>\n",
       "    <tr>\n",
       "      <th>75%</th>\n",
       "      <td>1.503921e+12</td>\n",
       "      <td>0.575269</td>\n",
       "      <td>0.0</td>\n",
       "      <td>0.0</td>\n",
       "    </tr>\n",
       "    <tr>\n",
       "      <th>max</th>\n",
       "      <td>1.503921e+12</td>\n",
       "      <td>0.936461</td>\n",
       "      <td>0.0</td>\n",
       "      <td>0.0</td>\n",
       "    </tr>\n",
       "  </tbody>\n",
       "</table>\n",
       "</div>"
      ],
      "text/plain": [
       "          timestamp    sensor_1  sensor_2  sensor_3\n",
       "count  2.190000e+02  219.000000     219.0     219.0\n",
       "mean   1.503921e+12    0.543441       0.0       0.0\n",
       "std    3.960217e+03    0.122817       0.0       0.0\n",
       "min    1.503921e+12    0.304008       0.0       0.0\n",
       "25%    1.503921e+12    0.472141       0.0       0.0\n",
       "50%    1.503921e+12    0.514174       0.0       0.0\n",
       "75%    1.503921e+12    0.575269       0.0       0.0\n",
       "max    1.503921e+12    0.936461       0.0       0.0"
      ]
     },
     "execution_count": 4,
     "metadata": {},
     "output_type": "execute_result"
    }
   ],
   "source": [
    "data = pd.read_csv(\"C:/Users/paul8/Downloads/heartbeat-50ms.csv\")\n",
    "data.describe()"
   ]
  },
  {
   "cell_type": "code",
   "execution_count": 5,
   "metadata": {},
   "outputs": [
    {
     "data": {
      "text/html": [
       "<div>\n",
       "<style scoped>\n",
       "    .dataframe tbody tr th:only-of-type {\n",
       "        vertical-align: middle;\n",
       "    }\n",
       "\n",
       "    .dataframe tbody tr th {\n",
       "        vertical-align: top;\n",
       "    }\n",
       "\n",
       "    .dataframe thead th {\n",
       "        text-align: right;\n",
       "    }\n",
       "</style>\n",
       "<table border=\"1\" class=\"dataframe\">\n",
       "  <thead>\n",
       "    <tr style=\"text-align: right;\">\n",
       "      <th></th>\n",
       "      <th>sensor_1</th>\n",
       "    </tr>\n",
       "  </thead>\n",
       "  <tbody>\n",
       "    <tr>\n",
       "      <th>0</th>\n",
       "      <td>0.315738</td>\n",
       "    </tr>\n",
       "    <tr>\n",
       "      <th>1</th>\n",
       "      <td>0.361681</td>\n",
       "    </tr>\n",
       "    <tr>\n",
       "      <th>2</th>\n",
       "      <td>0.470186</td>\n",
       "    </tr>\n",
       "    <tr>\n",
       "      <th>3</th>\n",
       "      <td>0.480938</td>\n",
       "    </tr>\n",
       "    <tr>\n",
       "      <th>4</th>\n",
       "      <td>0.456501</td>\n",
       "    </tr>\n",
       "  </tbody>\n",
       "</table>\n",
       "</div>"
      ],
      "text/plain": [
       "   sensor_1\n",
       "0  0.315738\n",
       "1  0.361681\n",
       "2  0.470186\n",
       "3  0.480938\n",
       "4  0.456501"
      ]
     },
     "execution_count": 5,
     "metadata": {},
     "output_type": "execute_result"
    }
   ],
   "source": [
    "data = data.loc[:,[\"sensor_1\"]]\n",
    "data.head()"
   ]
  },
  {
   "cell_type": "code",
   "execution_count": 38,
   "metadata": {},
   "outputs": [],
   "source": [
    "def get_lag(df, trailing_window_size):\n",
    "    df_lagged = df.copy()\n",
    "    for window in range(1, trailing_window_size + 1):\n",
    "        shifted = df.shift(window)\n",
    "        shifted.columns = [x + \"_lag\" + str(window) for x in df.columns]\n",
    "        df_lagged = pd.concat((df_lagged, shifted), axis=1)\n",
    "        df_lagged = df_lagged.dropna()\n",
    "    return(df_lagged)\n",
    "X_lagged = get_lag(data, 5)"
   ]
  },
  {
   "cell_type": "code",
   "execution_count": 39,
   "metadata": {},
   "outputs": [
    {
     "data": {
      "text/html": [
       "<div>\n",
       "<style scoped>\n",
       "    .dataframe tbody tr th:only-of-type {\n",
       "        vertical-align: middle;\n",
       "    }\n",
       "\n",
       "    .dataframe tbody tr th {\n",
       "        vertical-align: top;\n",
       "    }\n",
       "\n",
       "    .dataframe thead th {\n",
       "        text-align: right;\n",
       "    }\n",
       "</style>\n",
       "<table border=\"1\" class=\"dataframe\">\n",
       "  <thead>\n",
       "    <tr style=\"text-align: right;\">\n",
       "      <th></th>\n",
       "      <th>sensor_1</th>\n",
       "      <th>sensor_1_lag1</th>\n",
       "      <th>sensor_1_lag2</th>\n",
       "      <th>sensor_1_lag3</th>\n",
       "      <th>sensor_1_lag4</th>\n",
       "      <th>sensor_1_lag5</th>\n",
       "    </tr>\n",
       "  </thead>\n",
       "  <tbody>\n",
       "    <tr>\n",
       "      <th>5</th>\n",
       "      <td>0.455523</td>\n",
       "      <td>0.456501</td>\n",
       "      <td>0.480938</td>\n",
       "      <td>0.470186</td>\n",
       "      <td>0.361681</td>\n",
       "      <td>0.315738</td>\n",
       "    </tr>\n",
       "    <tr>\n",
       "      <th>6</th>\n",
       "      <td>0.454545</td>\n",
       "      <td>0.455523</td>\n",
       "      <td>0.456501</td>\n",
       "      <td>0.480938</td>\n",
       "      <td>0.470186</td>\n",
       "      <td>0.361681</td>\n",
       "    </tr>\n",
       "    <tr>\n",
       "      <th>7</th>\n",
       "      <td>0.469208</td>\n",
       "      <td>0.454545</td>\n",
       "      <td>0.455523</td>\n",
       "      <td>0.456501</td>\n",
       "      <td>0.480938</td>\n",
       "      <td>0.470186</td>\n",
       "    </tr>\n",
       "    <tr>\n",
       "      <th>8</th>\n",
       "      <td>0.476051</td>\n",
       "      <td>0.469208</td>\n",
       "      <td>0.454545</td>\n",
       "      <td>0.455523</td>\n",
       "      <td>0.456501</td>\n",
       "      <td>0.480938</td>\n",
       "    </tr>\n",
       "    <tr>\n",
       "      <th>9</th>\n",
       "      <td>0.478983</td>\n",
       "      <td>0.476051</td>\n",
       "      <td>0.469208</td>\n",
       "      <td>0.454545</td>\n",
       "      <td>0.455523</td>\n",
       "      <td>0.456501</td>\n",
       "    </tr>\n",
       "    <tr>\n",
       "      <th>...</th>\n",
       "      <td>...</td>\n",
       "      <td>...</td>\n",
       "      <td>...</td>\n",
       "      <td>...</td>\n",
       "      <td>...</td>\n",
       "      <td>...</td>\n",
       "    </tr>\n",
       "    <tr>\n",
       "      <th>214</th>\n",
       "      <td>0.936461</td>\n",
       "      <td>0.847507</td>\n",
       "      <td>0.641251</td>\n",
       "      <td>0.608016</td>\n",
       "      <td>0.603128</td>\n",
       "      <td>0.595308</td>\n",
       "    </tr>\n",
       "    <tr>\n",
       "      <th>215</th>\n",
       "      <td>0.595308</td>\n",
       "      <td>0.936461</td>\n",
       "      <td>0.847507</td>\n",
       "      <td>0.641251</td>\n",
       "      <td>0.608016</td>\n",
       "      <td>0.603128</td>\n",
       "    </tr>\n",
       "    <tr>\n",
       "      <th>216</th>\n",
       "      <td>0.530792</td>\n",
       "      <td>0.595308</td>\n",
       "      <td>0.936461</td>\n",
       "      <td>0.847507</td>\n",
       "      <td>0.641251</td>\n",
       "      <td>0.608016</td>\n",
       "    </tr>\n",
       "    <tr>\n",
       "      <th>217</th>\n",
       "      <td>0.574780</td>\n",
       "      <td>0.530792</td>\n",
       "      <td>0.595308</td>\n",
       "      <td>0.936461</td>\n",
       "      <td>0.847507</td>\n",
       "      <td>0.641251</td>\n",
       "    </tr>\n",
       "    <tr>\n",
       "      <th>218</th>\n",
       "      <td>0.580645</td>\n",
       "      <td>0.574780</td>\n",
       "      <td>0.530792</td>\n",
       "      <td>0.595308</td>\n",
       "      <td>0.936461</td>\n",
       "      <td>0.847507</td>\n",
       "    </tr>\n",
       "  </tbody>\n",
       "</table>\n",
       "<p>214 rows × 6 columns</p>\n",
       "</div>"
      ],
      "text/plain": [
       "     sensor_1  sensor_1_lag1  sensor_1_lag2  sensor_1_lag3  sensor_1_lag4  \\\n",
       "5    0.455523       0.456501       0.480938       0.470186       0.361681   \n",
       "6    0.454545       0.455523       0.456501       0.480938       0.470186   \n",
       "7    0.469208       0.454545       0.455523       0.456501       0.480938   \n",
       "8    0.476051       0.469208       0.454545       0.455523       0.456501   \n",
       "9    0.478983       0.476051       0.469208       0.454545       0.455523   \n",
       "..        ...            ...            ...            ...            ...   \n",
       "214  0.936461       0.847507       0.641251       0.608016       0.603128   \n",
       "215  0.595308       0.936461       0.847507       0.641251       0.608016   \n",
       "216  0.530792       0.595308       0.936461       0.847507       0.641251   \n",
       "217  0.574780       0.530792       0.595308       0.936461       0.847507   \n",
       "218  0.580645       0.574780       0.530792       0.595308       0.936461   \n",
       "\n",
       "     sensor_1_lag5  \n",
       "5         0.315738  \n",
       "6         0.361681  \n",
       "7         0.470186  \n",
       "8         0.480938  \n",
       "9         0.456501  \n",
       "..             ...  \n",
       "214       0.595308  \n",
       "215       0.603128  \n",
       "216       0.608016  \n",
       "217       0.641251  \n",
       "218       0.847507  \n",
       "\n",
       "[214 rows x 6 columns]"
      ]
     },
     "execution_count": 39,
     "metadata": {},
     "output_type": "execute_result"
    }
   ],
   "source": [
    "X_lagged"
   ]
  },
  {
   "cell_type": "code",
   "execution_count": 40,
   "metadata": {},
   "outputs": [],
   "source": [
    "X_train, X_test, Y_train, Y_test = train_test_split(X_lagged.drop(\"sensor_1\",axis=1),X_lagged.sensor_1, \n",
    "                                                    test_size=0.5, random_state=42, shuffle=False)"
   ]
  },
  {
   "cell_type": "code",
   "execution_count": 41,
   "metadata": {},
   "outputs": [
    {
     "data": {
      "text/plain": [
       "XGBRegressor(base_score=None, booster=None, callbacks=None,\n",
       "             colsample_bylevel=None, colsample_bynode=None,\n",
       "             colsample_bytree=None, early_stopping_rounds=None,\n",
       "             enable_categorical=False, eval_metric=None, feature_types=None,\n",
       "             gamma=None, gpu_id=None, grow_policy=None, importance_type=None,\n",
       "             interaction_constraints=None, learning_rate=None, max_bin=None,\n",
       "             max_cat_threshold=None, max_cat_to_onehot=None,\n",
       "             max_delta_step=None, max_depth=None, max_leaves=None,\n",
       "             min_child_weight=None, missing=nan, monotone_constraints=None,\n",
       "             n_estimators=100, n_jobs=None, num_parallel_tree=None,\n",
       "             predictor=None, random_state=None, ...)"
      ]
     },
     "execution_count": 41,
     "metadata": {},
     "output_type": "execute_result"
    }
   ],
   "source": [
    "from xgboost import XGBRegressor\n",
    "\n",
    "model = XGBRegressor()\n",
    "model.fit(X_train,Y_train)"
   ]
  },
  {
   "cell_type": "code",
   "execution_count": 42,
   "metadata": {},
   "outputs": [],
   "source": [
    "Y_pred = model.predict(X_test)"
   ]
  },
  {
   "cell_type": "code",
   "execution_count": 43,
   "metadata": {},
   "outputs": [
    {
     "name": "stdout",
     "output_type": "stream",
     "text": [
      "0.061718778531707326\n"
     ]
    }
   ],
   "source": [
    "from sklearn.metrics import mean_absolute_error\n",
    "MAE = mean_absolute_error(Y_test,Y_pred)\n",
    "print(MAE)"
   ]
  },
  {
   "cell_type": "code",
   "execution_count": 48,
   "metadata": {},
   "outputs": [
    {
     "data": {
      "image/png": "[encoded data removed]",
      "text/plain": [
       "<Figure size 432x288 with 1 Axes>"
      ]
     },
     "metadata": {
      "needs_background": "light"
     },
     "output_type": "display_data"
    }
   ],
   "source": [
    "import matplotlib.pyplot as plt\n",
    "plt.plot(np.arange(0,107,1),Y_pred, label=\"pred\")\n",
    "plt.plot(np.arange(0,107,1),Y_test,c=\"g\",label=\"actual\")\n",
    "plt.legend()\n",
    "plt.show()\n"
   ]
  },
  {
   "cell_type": "code",
   "execution_count": 52,
   "metadata": {},
   "outputs": [
    {
     "name": "stdout",
     "output_type": "stream",
     "text": [
      "0.10616565420560747\n"
     ]
    }
   ],
   "source": [
    "baseline = X_train.sensor_1_lag1\n",
    "MAE = mean_absolute_error(Y_test,baseline)\n",
    "print(MAE)"
   ]
  },
  {
   "cell_type": "code",
   "execution_count": 54,
   "metadata": {},
   "outputs": [
    {
     "data": {
      "image/png": "[encoded data removed]",
      "text/plain": [
       "<Figure size 432x288 with 1 Axes>"
      ]
     },
     "metadata": {
      "needs_background": "light"
     },
     "output_type": "display_data"
    }
   ],
   "source": [
    "plt.plot(np.arange(0,107,1),baseline,label=\"baseline\")\n",
    "plt.plot(np.arange(0,107,1),Y_test,c=\"g\",label=\"actual\")\n",
    "plt.legend()\n",
    "plt.show()"
   ]
  }
 ],
 "metadata": {
  "kernelspec": {
   "display_name": "base",
   "language": "python",
   "name": "python3"
  },
  "language_info": {
   "codemirror_mode": {
    "name": "ipython",
    "version": 3
   },
   "file_extension": ".py",
   "mimetype": "text/x-python",
   "name": "python",
   "nbconvert_exporter": "python",
   "pygments_lexer": "ipython3",
   "version": "3.8.18"
  }
 },
 "nbformat": 4,
 "nbformat_minor": 2
}
