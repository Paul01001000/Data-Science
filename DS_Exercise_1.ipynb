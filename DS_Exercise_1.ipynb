{
 "cells": [
  {
   "cell_type": "code",
   "execution_count": 1,
   "id": "ddfa378c",
   "metadata": {},
   "outputs": [
    {
     "ename": "ModuleNotFoundError",
     "evalue": "No module named 'pandas'",
     "output_type": "error",
     "traceback": [
      "\u001b[1;31m---------------------------------------------------------------------------\u001b[0m",
      "\u001b[1;31mModuleNotFoundError\u001b[0m                       Traceback (most recent call last)",
      "\u001b[1;32mc:\\Users\\paul8\\Documents\\Uni\\5. Semester\\DS and ML\\DS_Exercise_1.ipynb Cell 1\u001b[0m line \u001b[0;36m1\n\u001b[1;32m----> <a href='vscode-notebook-cell:/c%3A/Users/paul8/Documents/Uni/5.%20Semester/DS%20and%20ML/DS_Exercise_1.ipynb#W0sZmlsZQ%3D%3D?line=0'>1</a>\u001b[0m \u001b[39mimport\u001b[39;00m \u001b[39mpandas\u001b[39;00m \u001b[39mas\u001b[39;00m \u001b[39mpd\u001b[39;00m\n\u001b[0;32m      <a href='vscode-notebook-cell:/c%3A/Users/paul8/Documents/Uni/5.%20Semester/DS%20and%20ML/DS_Exercise_1.ipynb#W0sZmlsZQ%3D%3D?line=1'>2</a>\u001b[0m \u001b[39m#import matplotlib.pyplot as plt\u001b[39;00m\n\u001b[0;32m      <a href='vscode-notebook-cell:/c%3A/Users/paul8/Documents/Uni/5.%20Semester/DS%20and%20ML/DS_Exercise_1.ipynb#W0sZmlsZQ%3D%3D?line=2'>3</a>\u001b[0m \u001b[39mimport\u001b[39;00m \u001b[39mnumpy\u001b[39;00m \u001b[39mas\u001b[39;00m \u001b[39mnp\u001b[39;00m\n",
      "\u001b[1;31mModuleNotFoundError\u001b[0m: No module named 'pandas'"
     ]
    }
   ],
   "source": [
    "import pandas as pd\n",
    "#import matplotlib.pyplot as plt\n",
    "import numpy as np"
   ]
  },
  {
   "cell_type": "markdown",
   "id": "b79ec742",
   "metadata": {},
   "source": [
    "Exercise 1:"
   ]
  },
  {
   "cell_type": "code",
   "execution_count": 15,
   "id": "9fab88a9",
   "metadata": {},
   "outputs": [],
   "source": [
    "data = pd.DataFrame([[1,100,10, \"OOC\"],\n",
    "                     [2,200,30, \"LLT\"],\n",
    "                     [3,123,11, \"OOC\"],\n",
    "                     [4,400,99,\"SJO\"]],\n",
    "                   columns=[\"orderID\", \"componentA\", \"componentB\",\"customer\"])"
   ]
  },
  {
   "cell_type": "code",
   "execution_count": 16,
   "id": "cafdaa65",
   "metadata": {},
   "outputs": [
    {
     "data": {
      "text/html": [
       "<div>\n",
       "<style scoped>\n",
       "    .dataframe tbody tr th:only-of-type {\n",
       "        vertical-align: middle;\n",
       "    }\n",
       "\n",
       "    .dataframe tbody tr th {\n",
       "        vertical-align: top;\n",
       "    }\n",
       "\n",
       "    .dataframe thead th {\n",
       "        text-align: right;\n",
       "    }\n",
       "</style>\n",
       "<table border=\"1\" class=\"dataframe\">\n",
       "  <thead>\n",
       "    <tr style=\"text-align: right;\">\n",
       "      <th></th>\n",
       "      <th>orderID</th>\n",
       "      <th>componentA</th>\n",
       "      <th>componentB</th>\n",
       "      <th>customer</th>\n",
       "    </tr>\n",
       "  </thead>\n",
       "  <tbody>\n",
       "    <tr>\n",
       "      <th>0</th>\n",
       "      <td>1</td>\n",
       "      <td>100</td>\n",
       "      <td>10</td>\n",
       "      <td>OOC</td>\n",
       "    </tr>\n",
       "    <tr>\n",
       "      <th>1</th>\n",
       "      <td>2</td>\n",
       "      <td>200</td>\n",
       "      <td>30</td>\n",
       "      <td>LLT</td>\n",
       "    </tr>\n",
       "    <tr>\n",
       "      <th>2</th>\n",
       "      <td>3</td>\n",
       "      <td>123</td>\n",
       "      <td>11</td>\n",
       "      <td>OOC</td>\n",
       "    </tr>\n",
       "    <tr>\n",
       "      <th>3</th>\n",
       "      <td>4</td>\n",
       "      <td>400</td>\n",
       "      <td>99</td>\n",
       "      <td>SJO</td>\n",
       "    </tr>\n",
       "  </tbody>\n",
       "</table>\n",
       "</div>"
      ],
      "text/plain": [
       "   orderID  componentA  componentB customer\n",
       "0        1         100          10      OOC\n",
       "1        2         200          30      LLT\n",
       "2        3         123          11      OOC\n",
       "3        4         400          99      SJO"
      ]
     },
     "execution_count": 16,
     "metadata": {},
     "output_type": "execute_result"
    }
   ],
   "source": [
    "data"
   ]
  },
  {
   "cell_type": "code",
   "execution_count": 34,
   "id": "1fcbf2e1",
   "metadata": {},
   "outputs": [
    {
     "data": {
      "text/html": [
       "<div>\n",
       "<style scoped>\n",
       "    .dataframe tbody tr th:only-of-type {\n",
       "        vertical-align: middle;\n",
       "    }\n",
       "\n",
       "    .dataframe tbody tr th {\n",
       "        vertical-align: top;\n",
       "    }\n",
       "\n",
       "    .dataframe thead th {\n",
       "        text-align: right;\n",
       "    }\n",
       "</style>\n",
       "<table border=\"1\" class=\"dataframe\">\n",
       "  <thead>\n",
       "    <tr style=\"text-align: right;\">\n",
       "      <th></th>\n",
       "      <th>orderID</th>\n",
       "      <th>componentA</th>\n",
       "      <th>componentB</th>\n",
       "      <th>costA</th>\n",
       "      <th>costB</th>\n",
       "      <th>sumCost</th>\n",
       "    </tr>\n",
       "  </thead>\n",
       "  <tbody>\n",
       "    <tr>\n",
       "      <th>count</th>\n",
       "      <td>4.000000</td>\n",
       "      <td>4.000000</td>\n",
       "      <td>4.000000</td>\n",
       "      <td>4.000000</td>\n",
       "      <td>4.000000</td>\n",
       "      <td>4.000000</td>\n",
       "    </tr>\n",
       "    <tr>\n",
       "      <th>mean</th>\n",
       "      <td>2.500000</td>\n",
       "      <td>205.750000</td>\n",
       "      <td>37.500000</td>\n",
       "      <td>2057.500000</td>\n",
       "      <td>562.500000</td>\n",
       "      <td>2620.000000</td>\n",
       "    </tr>\n",
       "    <tr>\n",
       "      <th>std</th>\n",
       "      <td>1.290994</td>\n",
       "      <td>136.377845</td>\n",
       "      <td>42.019837</td>\n",
       "      <td>1363.778452</td>\n",
       "      <td>630.297549</td>\n",
       "      <td>1991.536258</td>\n",
       "    </tr>\n",
       "    <tr>\n",
       "      <th>min</th>\n",
       "      <td>1.000000</td>\n",
       "      <td>100.000000</td>\n",
       "      <td>10.000000</td>\n",
       "      <td>1000.000000</td>\n",
       "      <td>150.000000</td>\n",
       "      <td>1150.000000</td>\n",
       "    </tr>\n",
       "    <tr>\n",
       "      <th>25%</th>\n",
       "      <td>1.750000</td>\n",
       "      <td>117.250000</td>\n",
       "      <td>10.750000</td>\n",
       "      <td>1172.500000</td>\n",
       "      <td>161.250000</td>\n",
       "      <td>1333.750000</td>\n",
       "    </tr>\n",
       "    <tr>\n",
       "      <th>50%</th>\n",
       "      <td>2.500000</td>\n",
       "      <td>161.500000</td>\n",
       "      <td>20.500000</td>\n",
       "      <td>1615.000000</td>\n",
       "      <td>307.500000</td>\n",
       "      <td>1922.500000</td>\n",
       "    </tr>\n",
       "    <tr>\n",
       "      <th>75%</th>\n",
       "      <td>3.250000</td>\n",
       "      <td>250.000000</td>\n",
       "      <td>47.250000</td>\n",
       "      <td>2500.000000</td>\n",
       "      <td>708.750000</td>\n",
       "      <td>3208.750000</td>\n",
       "    </tr>\n",
       "    <tr>\n",
       "      <th>max</th>\n",
       "      <td>4.000000</td>\n",
       "      <td>400.000000</td>\n",
       "      <td>99.000000</td>\n",
       "      <td>4000.000000</td>\n",
       "      <td>1485.000000</td>\n",
       "      <td>5485.000000</td>\n",
       "    </tr>\n",
       "  </tbody>\n",
       "</table>\n",
       "</div>"
      ],
      "text/plain": [
       "        orderID  componentA  componentB        costA        costB      sumCost\n",
       "count  4.000000    4.000000    4.000000     4.000000     4.000000     4.000000\n",
       "mean   2.500000  205.750000   37.500000  2057.500000   562.500000  2620.000000\n",
       "std    1.290994  136.377845   42.019837  1363.778452   630.297549  1991.536258\n",
       "min    1.000000  100.000000   10.000000  1000.000000   150.000000  1150.000000\n",
       "25%    1.750000  117.250000   10.750000  1172.500000   161.250000  1333.750000\n",
       "50%    2.500000  161.500000   20.500000  1615.000000   307.500000  1922.500000\n",
       "75%    3.250000  250.000000   47.250000  2500.000000   708.750000  3208.750000\n",
       "max    4.000000  400.000000   99.000000  4000.000000  1485.000000  5485.000000"
      ]
     },
     "execution_count": 34,
     "metadata": {},
     "output_type": "execute_result"
    }
   ],
   "source": [
    "data.describe()"
   ]
  },
  {
   "cell_type": "code",
   "execution_count": 20,
   "id": "238e8c33",
   "metadata": {},
   "outputs": [
    {
     "name": "stdout",
     "output_type": "stream",
     "text": [
      "1000 150\n"
     ]
    }
   ],
   "source": [
    "cA = data.loc[0][\"componentA\"]*10\n",
    "cB = data.loc[0][\"componentB\"]*15\n",
    "print(cA,cB)"
   ]
  },
  {
   "cell_type": "code",
   "execution_count": 23,
   "id": "d2df4d56",
   "metadata": {},
   "outputs": [],
   "source": [
    "data[\"costA\"] = data[\"componentA\"]*10"
   ]
  },
  {
   "cell_type": "code",
   "execution_count": 25,
   "id": "b26c8543",
   "metadata": {},
   "outputs": [],
   "source": [
    "data[\"costB\"] = data[\"componentB\"]*15"
   ]
  },
  {
   "cell_type": "code",
   "execution_count": 27,
   "id": "28529ba7",
   "metadata": {},
   "outputs": [],
   "source": [
    "data[\"sumCost\"] = data[\"costA\"]+data[\"costB\"]"
   ]
  },
  {
   "cell_type": "code",
   "execution_count": 28,
   "id": "efabe9b8",
   "metadata": {},
   "outputs": [
    {
     "data": {
      "text/html": [
       "<div>\n",
       "<style scoped>\n",
       "    .dataframe tbody tr th:only-of-type {\n",
       "        vertical-align: middle;\n",
       "    }\n",
       "\n",
       "    .dataframe tbody tr th {\n",
       "        vertical-align: top;\n",
       "    }\n",
       "\n",
       "    .dataframe thead th {\n",
       "        text-align: right;\n",
       "    }\n",
       "</style>\n",
       "<table border=\"1\" class=\"dataframe\">\n",
       "  <thead>\n",
       "    <tr style=\"text-align: right;\">\n",
       "      <th></th>\n",
       "      <th>orderID</th>\n",
       "      <th>componentA</th>\n",
       "      <th>componentB</th>\n",
       "      <th>customer</th>\n",
       "      <th>costA</th>\n",
       "      <th>costB</th>\n",
       "      <th>sumCost</th>\n",
       "    </tr>\n",
       "  </thead>\n",
       "  <tbody>\n",
       "    <tr>\n",
       "      <th>0</th>\n",
       "      <td>1</td>\n",
       "      <td>100</td>\n",
       "      <td>10</td>\n",
       "      <td>OOC</td>\n",
       "      <td>1000</td>\n",
       "      <td>150</td>\n",
       "      <td>1150</td>\n",
       "    </tr>\n",
       "    <tr>\n",
       "      <th>1</th>\n",
       "      <td>2</td>\n",
       "      <td>200</td>\n",
       "      <td>30</td>\n",
       "      <td>LLT</td>\n",
       "      <td>2000</td>\n",
       "      <td>450</td>\n",
       "      <td>2450</td>\n",
       "    </tr>\n",
       "    <tr>\n",
       "      <th>2</th>\n",
       "      <td>3</td>\n",
       "      <td>123</td>\n",
       "      <td>11</td>\n",
       "      <td>OOC</td>\n",
       "      <td>1230</td>\n",
       "      <td>165</td>\n",
       "      <td>1395</td>\n",
       "    </tr>\n",
       "    <tr>\n",
       "      <th>3</th>\n",
       "      <td>4</td>\n",
       "      <td>400</td>\n",
       "      <td>99</td>\n",
       "      <td>SJO</td>\n",
       "      <td>4000</td>\n",
       "      <td>1485</td>\n",
       "      <td>5485</td>\n",
       "    </tr>\n",
       "  </tbody>\n",
       "</table>\n",
       "</div>"
      ],
      "text/plain": [
       "   orderID  componentA  componentB customer  costA  costB  sumCost\n",
       "0        1         100          10      OOC   1000    150     1150\n",
       "1        2         200          30      LLT   2000    450     2450\n",
       "2        3         123          11      OOC   1230    165     1395\n",
       "3        4         400          99      SJO   4000   1485     5485"
      ]
     },
     "execution_count": 28,
     "metadata": {},
     "output_type": "execute_result"
    }
   ],
   "source": [
    "data"
   ]
  },
  {
   "cell_type": "code",
   "execution_count": 33,
   "id": "544fde50",
   "metadata": {},
   "outputs": [
    {
     "data": {
      "text/plain": [
       "2545"
      ]
     },
     "execution_count": 33,
     "metadata": {},
     "output_type": "execute_result"
    }
   ],
   "source": [
    "data.loc[data[\"customer\"] == \"OOC\", \"sumCost\"].sum()"
   ]
  },
  {
   "cell_type": "code",
   "execution_count": 30,
   "id": "509d06d7",
   "metadata": {},
   "outputs": [
    {
     "data": {
      "text/plain": [
       "2057.5"
      ]
     },
     "execution_count": 30,
     "metadata": {},
     "output_type": "execute_result"
    }
   ],
   "source": [
    "data[\"costA\"].mean()"
   ]
  },
  {
   "cell_type": "markdown",
   "id": "08c52ae9",
   "metadata": {},
   "source": [
    "Data Import:"
   ]
  },
  {
   "cell_type": "code",
   "execution_count": null,
   "id": "2af25cfd",
   "metadata": {},
   "outputs": [],
   "source": []
  }
 ],
 "metadata": {
  "kernelspec": {
   "display_name": "Python 3",
   "language": "python",
   "name": "python3"
  },
  "language_info": {
   "codemirror_mode": {
    "name": "ipython",
    "version": 3
   },
   "file_extension": ".py",
   "mimetype": "text/x-python",
   "name": "python",
   "nbconvert_exporter": "python",
   "pygments_lexer": "ipython3",
   "version": "3.10.11"
  }
 },
 "nbformat": 4,
 "nbformat_minor": 5
}
